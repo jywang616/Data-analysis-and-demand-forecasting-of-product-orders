{
 "cells": [
  {
   "attachments": {},
   "cell_type": "markdown",
   "metadata": {},
   "source": [
    "# LSTM--week"
   ]
  },
  {
   "cell_type": "code",
   "execution_count": 11,
   "metadata": {},
   "outputs": [],
   "source": [
    "import sys\n",
    "import warnings\n",
    "\n",
    "if not sys.warnoptions:\n",
    "    warnings.simplefilter('ignore')"
   ]
  },
  {
   "cell_type": "code",
   "execution_count": 12,
   "metadata": {},
   "outputs": [
    {
     "data": {
      "text/plain": [
       "'d:\\\\Program\\\\Anaconda3\\\\envs\\\\Predict\\\\python.exe'"
      ]
     },
     "execution_count": 12,
     "metadata": {},
     "output_type": "execute_result"
    }
   ],
   "source": [
    "import os\n",
    "os.sys.executable\n"
   ]
  },
  {
   "cell_type": "code",
   "execution_count": 13,
   "metadata": {},
   "outputs": [],
   "source": [
    "import tensorflow.compat.v1 as tf\n",
    "tf.disable_v2_behavior()\n",
    "import numpy as np\n",
    "import matplotlib.pyplot as plt\n",
    "import seaborn as sns\n",
    "import pandas as pd\n",
    "from sklearn.preprocessing import MinMaxScaler\n",
    "from datetime import datetime\n",
    "from datetime import timedelta\n",
    "from tqdm import tqdm\n",
    "sns.set()\n",
    "tf.compat.v1.random.set_random_seed(1234)"
   ]
  },
  {
   "cell_type": "code",
   "execution_count": 14,
   "metadata": {},
   "outputs": [
    {
     "data": {
      "text/html": [
       "<div>\n",
       "<style scoped>\n",
       "    .dataframe tbody tr th:only-of-type {\n",
       "        vertical-align: middle;\n",
       "    }\n",
       "\n",
       "    .dataframe tbody tr th {\n",
       "        vertical-align: top;\n",
       "    }\n",
       "\n",
       "    .dataframe thead th {\n",
       "        text-align: right;\n",
       "    }\n",
       "</style>\n",
       "<table border=\"1\" class=\"dataframe\">\n",
       "  <thead>\n",
       "    <tr style=\"text-align: right;\">\n",
       "      <th></th>\n",
       "      <th>sales_region_code</th>\n",
       "      <th>item_code</th>\n",
       "      <th>month1</th>\n",
       "      <th>month2</th>\n",
       "      <th>month3</th>\n",
       "    </tr>\n",
       "  </thead>\n",
       "  <tbody>\n",
       "    <tr>\n",
       "      <th>0</th>\n",
       "      <td>101</td>\n",
       "      <td>20002</td>\n",
       "      <td>844.061408</td>\n",
       "      <td>3667.282699</td>\n",
       "      <td>10398.71920</td>\n",
       "    </tr>\n",
       "    <tr>\n",
       "      <th>1</th>\n",
       "      <td>101</td>\n",
       "      <td>20003</td>\n",
       "      <td>0.000000</td>\n",
       "      <td>0.000000</td>\n",
       "      <td>0.00000</td>\n",
       "    </tr>\n",
       "    <tr>\n",
       "      <th>2</th>\n",
       "      <td>101</td>\n",
       "      <td>20006</td>\n",
       "      <td>5240.374831</td>\n",
       "      <td>11681.012970</td>\n",
       "      <td>22798.12709</td>\n",
       "    </tr>\n",
       "    <tr>\n",
       "      <th>3</th>\n",
       "      <td>101</td>\n",
       "      <td>20011</td>\n",
       "      <td>0.000000</td>\n",
       "      <td>0.000000</td>\n",
       "      <td>0.00000</td>\n",
       "    </tr>\n",
       "    <tr>\n",
       "      <th>4</th>\n",
       "      <td>101</td>\n",
       "      <td>20014</td>\n",
       "      <td>162196.465900</td>\n",
       "      <td>216319.706800</td>\n",
       "      <td>182099.37890</td>\n",
       "    </tr>\n",
       "  </tbody>\n",
       "</table>\n",
       "</div>"
      ],
      "text/plain": [
       "   sales_region_code  item_code         month1         month2        month3\n",
       "0                101      20002     844.061408    3667.282699   10398.71920\n",
       "1                101      20003       0.000000       0.000000       0.00000\n",
       "2                101      20006    5240.374831   11681.012970   22798.12709\n",
       "3                101      20011       0.000000       0.000000       0.00000\n",
       "4                101      20014  162196.465900  216319.706800  182099.37890"
      ]
     },
     "execution_count": 14,
     "metadata": {},
     "output_type": "execute_result"
    }
   ],
   "source": [
    "ori_data=pd.read_csv(\"order_train1.csv\",encoding='utf-8')\n",
    "ori_data.head()\n",
    "# out=pd.read_csv(\"predict_sku_week.csv\",encoding='utf-8')\n",
    "out=pd.read_csv(\"周时间粒度的预测结果.csv\",encoding='utf-8')\n",
    "out.head()"
   ]
  },
  {
   "cell_type": "code",
   "execution_count": 15,
   "metadata": {},
   "outputs": [],
   "source": [
    "\n",
    "simulation_size = 5 # 重复次数"
   ]
  },
  {
   "cell_type": "code",
   "execution_count": 16,
   "metadata": {},
   "outputs": [],
   "source": [
    "# 参数设置\n",
    "num_layers = 1          # LSTM单元个数\n",
    "size_layer = 128        # 一层神经网络中的中神经元个数\n",
    "timestamp = 5           # 时间步（从过去X天预测未来1天）\n",
    "epoch = 150            # 迭代次数\n",
    "dropout_rate = 0.8      # 跳出参数--防止过拟合\n",
    "learning_rate = 0.01    # 学习率"
   ]
  },
  {
   "cell_type": "code",
   "execution_count": 17,
   "metadata": {},
   "outputs": [],
   "source": [
    "# LSTM模型\n",
    "class Model:\n",
    "    def __init__(\n",
    "        self,\n",
    "        learning_rate,  # 学习率\n",
    "        num_layers,     # LSTM单元个数\n",
    "        size,           # 输入神经元个数\n",
    "        size_layer,     # LSTM单层神经网络中的神经元个数\n",
    "        output_size,    # 输出神经元个数（预测值）\n",
    "        forget_bias = 0.1, # 忘记门指数\n",
    "    ):\n",
    "        # ———————————————————定义神经网络————————————————————————————\n",
    "        def lstm_cell(size_layer):  # 单层神经网络\n",
    "            return tf.nn.rnn_cell.LSTMCell(size_layer, state_is_tuple = False)\n",
    "\n",
    "        rnn_cells = tf.nn.rnn_cell.MultiRNNCell(    # 整个神经网络\n",
    "            [lstm_cell(size_layer) for _ in range(num_layers)],\n",
    "            state_is_tuple = False,\n",
    "        )\n",
    "        \n",
    "        self.X = tf.placeholder(tf.float32, (None, None, size)) # 输入X：三维\n",
    "        self.Y = tf.placeholder(tf.float32, (None, output_size)) # 输出Y：二维\n",
    "        drop = tf.compat.v1.nn.rnn_cell.DropoutWrapper( # 跳出\n",
    "            rnn_cells, output_keep_prob = forget_bias\n",
    "        )\n",
    "        self.hidden_layer = tf.placeholder(         # 隐藏层\n",
    "            tf.float32, (None, num_layers * 2 * size_layer)\n",
    "        )\n",
    "        self.outputs, self.last_state = tf.nn.dynamic_rnn(  # 输出&末状态\n",
    "            drop, self.X, initial_state = self.hidden_layer, dtype = tf.float32\n",
    "        )\n",
    "        self.logits = tf.layers.dense(self.outputs[-1], output_size)\n",
    "        self.cost = tf.reduce_mean(tf.square(self.Y - self.logits))\n",
    "        self.optimizer = tf.train.AdamOptimizer(learning_rate).minimize(\n",
    "            self.cost\n",
    "        )\n",
    "\n",
    "# 准确度计算    \n",
    "def calculate_accuracy(real, predict):\n",
    "    real = np.array(real) + 1   # 除0\n",
    "    predict = np.array(predict) + 1\n",
    "    percentage = 1-np.sqrt(np.mean(np.square(abs(real - predict) / real)))\n",
    "    return percentage * 100\n",
    "\n",
    "\n",
    "def anchor(signal, weight):\n",
    "    buffer = []\n",
    "    last = signal[0]\n",
    "    for i in signal:\n",
    "        smoothed_val = last * weight + (1 - weight) * i\n",
    "        buffer.append(smoothed_val)\n",
    "        last = smoothed_val\n",
    "    return buffer\n",
    "\n",
    "def print_loss(theloss):\n",
    "    print(theloss)\n",
    "    plt.figure()\n",
    "    plt.plot(list(range(len(theloss))), theloss)\n",
    "    plt.xlabel('times', fontsize=14)\n",
    "    plt.ylabel('loss value', fontsize=14)\n",
    "    plt.title('Loss', fontsize=10)\n",
    "    plt.show()"
   ]
  },
  {
   "cell_type": "code",
   "execution_count": 18,
   "metadata": {},
   "outputs": [],
   "source": [
    "# LSTM预测\n",
    "def forecast():\n",
    "    tf.reset_default_graph()\n",
    "    # 如果没有这行代码 就没有办法多次调用该模型\n",
    "    # 清除默认图形并重置全局默认图形\n",
    "    modelnn = Model(\n",
    "        learning_rate, num_layers, df_train.shape[1], size_layer, df_train.shape[1], dropout_rate\n",
    "    )\n",
    "    # 初始化\n",
    "    sess = tf.InteractiveSession()\n",
    "    sess.run(tf.global_variables_initializer())\n",
    "    date_ori = pd.to_datetime(data.iloc[:, 0]).tolist() # 获取日期\n",
    "\n",
    "    # 训练得到LSTM模型\n",
    "    pbar = tqdm(range(epoch), desc = 'train loop') # 迭代次数\n",
    "    for i in pbar:\n",
    "        init_value = np.zeros((1, num_layers * 2 * size_layer)) # LSTM层数*个数*2\n",
    "        total_loss, total_acc = [], []\n",
    "        for k in range(0, df_train.shape[0] - 1, timestamp): \n",
    "            index = min(k + timestamp, df_train.shape[0] - 1)\n",
    "            batch_x = np.expand_dims(               # 构建训练数据X\n",
    "                df_train.iloc[k : index, :].values, axis = 0\n",
    "            )\n",
    "            batch_y = df_train.iloc[k + 1 : index + 1, :].values\n",
    "            logits, last_state, _, loss = sess.run(         #运行模型\n",
    "                [modelnn.logits, modelnn.last_state, modelnn.optimizer, modelnn.cost],\n",
    "                feed_dict = {\n",
    "                    modelnn.X: batch_x,\n",
    "                    modelnn.Y: batch_y,\n",
    "                    modelnn.hidden_layer: init_value,\n",
    "                },\n",
    "            )        \n",
    "            init_value = last_state\n",
    "            total_loss.append(loss)\n",
    "            total_acc.append(calculate_accuracy(batch_y[:, 0], logits[:, 0]))\n",
    "        pbar.set_postfix(cost = np.mean(total_loss), acc = np.mean(total_acc))\n",
    "    \n",
    "    # 预测未来数据\n",
    "    future_day = test_size\n",
    "\n",
    "    output_predict = np.zeros((df_train.shape[0] + future_day, df_train.shape[1]))\n",
    "    output_predict[0] = df_train.iloc[0]\n",
    "    upper_b = (df_train.shape[0] // timestamp) * timestamp\n",
    "    init_value = np.zeros((1, num_layers * 2 * size_layer))\n",
    "\n",
    "    for k in range(0, (df_train.shape[0] // timestamp) * timestamp, timestamp):\n",
    "        out_logits, last_state = sess.run(\n",
    "            [modelnn.logits, modelnn.last_state],\n",
    "            feed_dict = {\n",
    "                modelnn.X: np.expand_dims(\n",
    "                    df_train.iloc[k : k + timestamp], axis = 0\n",
    "                ),\n",
    "                modelnn.hidden_layer: init_value,\n",
    "            },\n",
    "        )\n",
    "        init_value = last_state\n",
    "        output_predict[k + 1 : k + timestamp + 1] = out_logits\n",
    "\n",
    "    if upper_b != df_train.shape[0]:\n",
    "        out_logits, last_state = sess.run(\n",
    "            [modelnn.logits, modelnn.last_state],\n",
    "            feed_dict = {\n",
    "                modelnn.X: np.expand_dims(df_train.iloc[upper_b:], axis = 0),\n",
    "                modelnn.hidden_layer: init_value,\n",
    "            },\n",
    "        )\n",
    "        output_predict[upper_b + 1 : df_train.shape[0] + 1] = out_logits\n",
    "        future_day -= 1\n",
    "        date_ori.append(date_ori[-1] + timedelta(days = 1))\n",
    "\n",
    "    init_value = last_state\n",
    "    \n",
    "    for i in range(future_day):\n",
    "        o = output_predict[-future_day - timestamp + i:-future_day + i]\n",
    "        out_logits, last_state = sess.run(\n",
    "            [modelnn.logits, modelnn.last_state],\n",
    "            feed_dict = {\n",
    "                modelnn.X: np.expand_dims(o, axis = 0),\n",
    "                modelnn.hidden_layer: init_value,\n",
    "            },\n",
    "        )\n",
    "        init_value = last_state\n",
    "        output_predict[-future_day + i] = out_logits[-1]\n",
    "        date_ori.append(date_ori[-1] + timedelta(days = 1))\n",
    "    \n",
    "    # 反归一化\n",
    "    output_predict = minmax.inverse_transform(output_predict)\n",
    "    deep_future = anchor(output_predict[:, 0], 0.4)\n",
    "    \n",
    "    return deep_future"
   ]
  },
  {
   "cell_type": "code",
   "execution_count": 19,
   "metadata": {},
   "outputs": [],
   "source": [
    "def final_process(regioncode,itemcode,test_size,results):\n",
    "    \n",
    "    # 日期转换\n",
    "    date_ori = pd.to_datetime(data.iloc[:, 0]).tolist()\n",
    "    for i in range(test_size):\n",
    "        date_ori.append(date_ori[-1] + timedelta(days = 7))\n",
    "    date_ori = pd.Series(date_ori).dt.strftime(date_format = '%Y-%m-%d').tolist()\n",
    "\n",
    "    # 判断能用的线条\n",
    "    accepted_results = []\n",
    "    for r in results:\n",
    "        if (np.array(r[-test_size:]) < np.min(data['ord_qty'])).sum() == 0 and \\\n",
    "        (np.array(r[-test_size:]) > np.max(data['ord_qty']) * 2).sum() == 0:\n",
    "            accepted_results.append(r)\n",
    "    if len(accepted_results)==0:\n",
    "        return [0,0,0,0]\n",
    "\n",
    "    # 绘图\n",
    "    accuracies = [calculate_accuracy(data['ord_qty'].values, r[:-test_size]) for r in results]\n",
    "\n",
    "    plt.figure(figsize = (15, 5))\n",
    "    for no, r in enumerate(accepted_results):\n",
    "        plt.plot(r, label = 'forecast %d'%(no + 1))\n",
    "    plt.plot(data['ord_qty'], label = 'true trend', c = 'black')\n",
    "    plt.title('regioncode: %s item_code: %s'%(str(regioncode),str(itemcode)))\n",
    "\n",
    "    x_range_future = np.arange(len(accepted_results[0]))\n",
    "    plt.xticks(x_range_future[::10], date_ori[::10],rotation=30)\n",
    "    plt.legend()\n",
    "    figname='C:/Users/Huilin Yao/Desktop/泰迪杯2023/周结果/'+'regioncode为'+str(regioncode)+'item_code为'+str(itemcode)+'的周预测量'+'.png'\n",
    "    plt.savefig(figname,bbox_inches='tight')\n",
    "\n",
    "    # 存储预测结果\n",
    "    index=np.argmax(accuracies)\n",
    "    final_data=results[index]\n",
    "    final_data=final_data[-test_size:]\n",
    "    x1=pd.DataFrame(final_data)\n",
    "    x2=pd.date_range(start=\"2018/12/23\",end=\"2019/03/31\",freq=\"7D\")\n",
    "    x2=pd.DataFrame(x2)\n",
    "    final_result=pd.concat([x2,x1],axis=1)\n",
    "    final_result.columns=['日期','预测需求量']\n",
    "    name='C:/Users/Huilin Yao/Desktop/泰迪杯2023/周结果/'+'regioncode为'+str(regioncode)+'item_code为'+str(itemcode)+'的周预测量'+'.csv'\n",
    "    final_result.to_csv(name,index=False)\n",
    "\n",
    "    # 存储最终结果\n",
    "    m1=np.sum(final_data[:5])\n",
    "    m2=np.sum(final_data[5:9])\n",
    "    m3=np.sum(final_data[9:])\n",
    "    outcome=[regioncode,itemcode,m1,m2,m3]\n",
    "    print(outcome)\n",
    "    return outcome\n"
   ]
  },
  {
   "cell_type": "code",
   "execution_count": 20,
   "metadata": {},
   "outputs": [
    {
     "name": "stdout",
     "output_type": "stream",
     "text": [
      "%s pass 20002.0\n",
      "20003.0\n",
      "%s redo 20003.0\n",
      "simulation 1\n",
      "simulation 2\n",
      "simulation 3\n",
      "simulation 4\n",
      "simulation 5\n",
      "WARNING:tensorflow:<keras.layers.rnn.legacy_cells.LSTMCell object at 0x0000018621C27C40>: Using a concatenated state is slower and will soon be deprecated.  Use state_is_tuple=True.\n",
      "WARNING:tensorflow:`tf.nn.rnn_cell.MultiRNNCell` is deprecated. This class is equivalent as `tf.keras.layers.StackedRNNCells`, and will be replaced by that in Tensorflow 2.0.\n"
     ]
    },
    {
     "name": "stderr",
     "output_type": "stream",
     "text": [
      "train loop: 100%|██████████| 150/150 [00:06<00:00, 23.48it/s, acc=96.6, cost=0.00338]\n"
     ]
    },
    {
     "name": "stdout",
     "output_type": "stream",
     "text": [
      "%s pass 20006.0\n",
      "20011.0\n",
      "%s pass 20014.0\n",
      "%s pass 20016.0\n",
      "%s pass 20018.0\n",
      "%s pass 20020.0\n",
      "%s pass 20021.0\n",
      "%s pass 20024.0\n",
      "%s pass 20039.0\n",
      "%s pass 20041.0\n",
      "%s pass 20046.0\n",
      "%s pass 20049.0\n",
      "%s pass 20055.0\n",
      "%s pass 20058.0\n",
      "20076.0\n",
      "%s redo 20076.0\n",
      "simulation 1\n",
      "simulation 2\n",
      "simulation 3\n",
      "simulation 4\n",
      "simulation 5\n",
      "WARNING:tensorflow:<keras.layers.rnn.legacy_cells.LSTMCell object at 0x0000018622547EE0>: Using a concatenated state is slower and will soon be deprecated.  Use state_is_tuple=True.\n",
      "WARNING:tensorflow:`tf.nn.rnn_cell.MultiRNNCell` is deprecated. This class is equivalent as `tf.keras.layers.StackedRNNCells`, and will be replaced by that in Tensorflow 2.0.\n"
     ]
    },
    {
     "name": "stderr",
     "output_type": "stream",
     "text": [
      "train loop: 100%|██████████| 150/150 [00:08<00:00, 17.91it/s, acc=97.8, cost=0.00123] \n"
     ]
    },
    {
     "name": "stdout",
     "output_type": "stream",
     "text": [
      "%s pass 20085.0\n",
      "20086.0\n",
      "%s redo 20086.0\n",
      "simulation 1\n",
      "simulation 2\n",
      "simulation 3\n",
      "simulation 4\n",
      "simulation 5\n",
      "WARNING:tensorflow:<keras.layers.rnn.legacy_cells.LSTMCell object at 0x0000018629F46560>: Using a concatenated state is slower and will soon be deprecated.  Use state_is_tuple=True.\n",
      "WARNING:tensorflow:`tf.nn.rnn_cell.MultiRNNCell` is deprecated. This class is equivalent as `tf.keras.layers.StackedRNNCells`, and will be replaced by that in Tensorflow 2.0.\n"
     ]
    },
    {
     "name": "stderr",
     "output_type": "stream",
     "text": [
      "train loop: 100%|██████████| 150/150 [00:09<00:00, 15.26it/s, acc=96.9, cost=0.00279]\n"
     ]
    },
    {
     "name": "stdout",
     "output_type": "stream",
     "text": [
      "20088.0\n",
      "20089.0\n",
      "%s redo 20089.0\n",
      "simulation 1\n",
      "simulation 2\n",
      "simulation 3\n",
      "simulation 4\n",
      "simulation 5\n",
      "WARNING:tensorflow:<keras.layers.rnn.legacy_cells.LSTMCell object at 0x000001862B04D780>: Using a concatenated state is slower and will soon be deprecated.  Use state_is_tuple=True.\n",
      "WARNING:tensorflow:`tf.nn.rnn_cell.MultiRNNCell` is deprecated. This class is equivalent as `tf.keras.layers.StackedRNNCells`, and will be replaced by that in Tensorflow 2.0.\n"
     ]
    },
    {
     "name": "stderr",
     "output_type": "stream",
     "text": [
      "train loop: 100%|██████████| 150/150 [00:05<00:00, 27.68it/s, acc=95.4, cost=0.00551]\n"
     ]
    },
    {
     "name": "stdout",
     "output_type": "stream",
     "text": [
      "%s pass 20091.0\n",
      "%s pass 20093.0\n",
      "%s pass 20107.0\n",
      "%s pass 20111.0\n",
      "20113.0\n",
      "%s redo 20113.0\n",
      "simulation 1\n",
      "simulation 2\n",
      "simulation 3\n",
      "simulation 4\n",
      "simulation 5\n",
      "WARNING:tensorflow:<keras.layers.rnn.legacy_cells.LSTMCell object at 0x000001862C529D50>: Using a concatenated state is slower and will soon be deprecated.  Use state_is_tuple=True.\n",
      "WARNING:tensorflow:`tf.nn.rnn_cell.MultiRNNCell` is deprecated. This class is equivalent as `tf.keras.layers.StackedRNNCells`, and will be replaced by that in Tensorflow 2.0.\n"
     ]
    },
    {
     "name": "stderr",
     "output_type": "stream",
     "text": [
      "train loop: 100%|██████████| 150/150 [00:01<00:00, 82.88it/s, acc=92.3, cost=0.0135] \n"
     ]
    },
    {
     "name": "stdout",
     "output_type": "stream",
     "text": [
      "[101.0, 20113.0, 25654.089007979495, 165687.71602078417, 473796.91591515]\n",
      "20114.0\n",
      "%s pass 20118.0\n",
      "%s pass 20119.0\n",
      "%s pass 20121.0\n",
      "%s pass 20127.0\n",
      "20131.0\n",
      "%s redo 20131.0\n",
      "simulation 1\n",
      "simulation 2\n",
      "simulation 3\n",
      "simulation 4\n",
      "simulation 5\n",
      "WARNING:tensorflow:<keras.layers.rnn.legacy_cells.LSTMCell object at 0x0000018629B27A90>: Using a concatenated state is slower and will soon be deprecated.  Use state_is_tuple=True.\n",
      "WARNING:tensorflow:`tf.nn.rnn_cell.MultiRNNCell` is deprecated. This class is equivalent as `tf.keras.layers.StackedRNNCells`, and will be replaced by that in Tensorflow 2.0.\n"
     ]
    },
    {
     "name": "stderr",
     "output_type": "stream",
     "text": [
      "train loop: 100%|██████████| 150/150 [00:02<00:00, 53.79it/s, acc=96.6, cost=0.00245]\n"
     ]
    },
    {
     "name": "stdout",
     "output_type": "stream",
     "text": [
      "20134.0\n",
      "%s redo 20134.0\n",
      "simulation 1\n",
      "simulation 2\n",
      "simulation 3\n",
      "simulation 4\n",
      "simulation 5\n",
      "WARNING:tensorflow:<keras.layers.rnn.legacy_cells.LSTMCell object at 0x0000018621D0FF10>: Using a concatenated state is slower and will soon be deprecated.  Use state_is_tuple=True.\n",
      "WARNING:tensorflow:`tf.nn.rnn_cell.MultiRNNCell` is deprecated. This class is equivalent as `tf.keras.layers.StackedRNNCells`, and will be replaced by that in Tensorflow 2.0.\n"
     ]
    },
    {
     "name": "stderr",
     "output_type": "stream",
     "text": [
      "train loop: 100%|██████████| 150/150 [00:08<00:00, 18.74it/s, acc=96.7, cost=0.00319]\n"
     ]
    },
    {
     "name": "stdout",
     "output_type": "stream",
     "text": [
      "20135.0\n",
      "%s redo 20135.0\n",
      "simulation 1\n",
      "simulation 2\n",
      "simulation 3\n",
      "simulation 4\n",
      "simulation 5\n",
      "WARNING:tensorflow:<keras.layers.rnn.legacy_cells.LSTMCell object at 0x00000186229D0850>: Using a concatenated state is slower and will soon be deprecated.  Use state_is_tuple=True.\n",
      "WARNING:tensorflow:`tf.nn.rnn_cell.MultiRNNCell` is deprecated. This class is equivalent as `tf.keras.layers.StackedRNNCells`, and will be replaced by that in Tensorflow 2.0.\n"
     ]
    },
    {
     "name": "stderr",
     "output_type": "stream",
     "text": [
      "train loop: 100%|██████████| 150/150 [00:08<00:00, 18.44it/s, acc=95, cost=0.00645]  \n"
     ]
    },
    {
     "name": "stdout",
     "output_type": "stream",
     "text": [
      "20139.0\n",
      "%s redo 20139.0\n",
      "simulation 1\n",
      "simulation 2\n",
      "simulation 3\n",
      "simulation 4\n",
      "simulation 5\n",
      "WARNING:tensorflow:<keras.layers.rnn.legacy_cells.LSTMCell object at 0x00000186222E0250>: Using a concatenated state is slower and will soon be deprecated.  Use state_is_tuple=True.\n",
      "WARNING:tensorflow:`tf.nn.rnn_cell.MultiRNNCell` is deprecated. This class is equivalent as `tf.keras.layers.StackedRNNCells`, and will be replaced by that in Tensorflow 2.0.\n"
     ]
    },
    {
     "name": "stderr",
     "output_type": "stream",
     "text": [
      "train loop: 100%|██████████| 150/150 [00:08<00:00, 16.89it/s, acc=96.3, cost=0.00369]\n"
     ]
    },
    {
     "name": "stdout",
     "output_type": "stream",
     "text": [
      "%s pass 20140.0\n",
      "%s pass 20142.0\n",
      "%s pass 20145.0\n",
      "%s pass 20146.0\n",
      "%s pass 20150.0\n",
      "20151.0\n",
      "%s redo 20151.0\n",
      "simulation 1\n",
      "simulation 2\n",
      "simulation 3\n",
      "simulation 4\n",
      "simulation 5\n",
      "WARNING:tensorflow:<keras.layers.rnn.legacy_cells.LSTMCell object at 0x00000186229F6410>: Using a concatenated state is slower and will soon be deprecated.  Use state_is_tuple=True.\n",
      "WARNING:tensorflow:`tf.nn.rnn_cell.MultiRNNCell` is deprecated. This class is equivalent as `tf.keras.layers.StackedRNNCells`, and will be replaced by that in Tensorflow 2.0.\n"
     ]
    },
    {
     "name": "stderr",
     "output_type": "stream",
     "text": [
      "train loop:  61%|██████    | 91/150 [00:05<00:03, 18.14it/s, acc=96.4, cost=0.0033] \n"
     ]
    },
    {
     "ename": "KeyboardInterrupt",
     "evalue": "",
     "output_type": "error",
     "traceback": [
      "\u001b[1;31m---------------------------------------------------------------------------\u001b[0m",
      "\u001b[1;31mKeyboardInterrupt\u001b[0m                         Traceback (most recent call last)",
      "Cell \u001b[1;32mIn[20], line 81\u001b[0m\n\u001b[0;32m     79\u001b[0m \u001b[39mfor\u001b[39;00m i \u001b[39min\u001b[39;00m \u001b[39mrange\u001b[39m(simulation_size):\n\u001b[0;32m     80\u001b[0m     \u001b[39mprint\u001b[39m(\u001b[39m'\u001b[39m\u001b[39msimulation \u001b[39m\u001b[39m%d\u001b[39;00m\u001b[39m'\u001b[39m\u001b[39m%\u001b[39m(i \u001b[39m+\u001b[39m \u001b[39m1\u001b[39m))\n\u001b[1;32m---> 81\u001b[0m results\u001b[39m.\u001b[39mappend(forecast())\n\u001b[0;32m     83\u001b[0m \u001b[39m# 画图&结果存储\u001b[39;00m\n\u001b[0;32m     85\u001b[0m outcome\u001b[39m=\u001b[39mfinal_process(rcode,icode,test_size,results) \n",
      "Cell \u001b[1;32mIn[18], line 25\u001b[0m, in \u001b[0;36mforecast\u001b[1;34m()\u001b[0m\n\u001b[0;32m     21\u001b[0m batch_x \u001b[39m=\u001b[39m np\u001b[39m.\u001b[39mexpand_dims(               \u001b[39m# 构建训练数据X\u001b[39;00m\n\u001b[0;32m     22\u001b[0m     df_train\u001b[39m.\u001b[39miloc[k : index, :]\u001b[39m.\u001b[39mvalues, axis \u001b[39m=\u001b[39m \u001b[39m0\u001b[39m\n\u001b[0;32m     23\u001b[0m )\n\u001b[0;32m     24\u001b[0m batch_y \u001b[39m=\u001b[39m df_train\u001b[39m.\u001b[39miloc[k \u001b[39m+\u001b[39m \u001b[39m1\u001b[39m : index \u001b[39m+\u001b[39m \u001b[39m1\u001b[39m, :]\u001b[39m.\u001b[39mvalues\n\u001b[1;32m---> 25\u001b[0m logits, last_state, _, loss \u001b[39m=\u001b[39m sess\u001b[39m.\u001b[39;49mrun(         \u001b[39m#运行模型\u001b[39;49;00m\n\u001b[0;32m     26\u001b[0m     [modelnn\u001b[39m.\u001b[39;49mlogits, modelnn\u001b[39m.\u001b[39;49mlast_state, modelnn\u001b[39m.\u001b[39;49moptimizer, modelnn\u001b[39m.\u001b[39;49mcost],\n\u001b[0;32m     27\u001b[0m     feed_dict \u001b[39m=\u001b[39;49m {\n\u001b[0;32m     28\u001b[0m         modelnn\u001b[39m.\u001b[39;49mX: batch_x,\n\u001b[0;32m     29\u001b[0m         modelnn\u001b[39m.\u001b[39;49mY: batch_y,\n\u001b[0;32m     30\u001b[0m         modelnn\u001b[39m.\u001b[39;49mhidden_layer: init_value,\n\u001b[0;32m     31\u001b[0m     },\n\u001b[0;32m     32\u001b[0m )        \n\u001b[0;32m     33\u001b[0m init_value \u001b[39m=\u001b[39m last_state\n\u001b[0;32m     34\u001b[0m total_loss\u001b[39m.\u001b[39mappend(loss)\n",
      "File \u001b[1;32md:\\Program\\Anaconda3\\envs\\Predict\\lib\\site-packages\\tensorflow\\python\\client\\session.py:968\u001b[0m, in \u001b[0;36mBaseSession.run\u001b[1;34m(self, fetches, feed_dict, options, run_metadata)\u001b[0m\n\u001b[0;32m    965\u001b[0m run_metadata_ptr \u001b[39m=\u001b[39m tf_session\u001b[39m.\u001b[39mTF_NewBuffer() \u001b[39mif\u001b[39;00m run_metadata \u001b[39melse\u001b[39;00m \u001b[39mNone\u001b[39;00m\n\u001b[0;32m    967\u001b[0m \u001b[39mtry\u001b[39;00m:\n\u001b[1;32m--> 968\u001b[0m   result \u001b[39m=\u001b[39m \u001b[39mself\u001b[39;49m\u001b[39m.\u001b[39;49m_run(\u001b[39mNone\u001b[39;49;00m, fetches, feed_dict, options_ptr,\n\u001b[0;32m    969\u001b[0m                      run_metadata_ptr)\n\u001b[0;32m    970\u001b[0m   \u001b[39mif\u001b[39;00m run_metadata:\n\u001b[0;32m    971\u001b[0m     proto_data \u001b[39m=\u001b[39m tf_session\u001b[39m.\u001b[39mTF_GetBuffer(run_metadata_ptr)\n",
      "File \u001b[1;32md:\\Program\\Anaconda3\\envs\\Predict\\lib\\site-packages\\tensorflow\\python\\client\\session.py:1191\u001b[0m, in \u001b[0;36mBaseSession._run\u001b[1;34m(self, handle, fetches, feed_dict, options, run_metadata)\u001b[0m\n\u001b[0;32m   1188\u001b[0m \u001b[39m# We only want to really perform the run if fetches or targets are provided,\u001b[39;00m\n\u001b[0;32m   1189\u001b[0m \u001b[39m# or if the call is a partial run that specifies feeds.\u001b[39;00m\n\u001b[0;32m   1190\u001b[0m \u001b[39mif\u001b[39;00m final_fetches \u001b[39mor\u001b[39;00m final_targets \u001b[39mor\u001b[39;00m (handle \u001b[39mand\u001b[39;00m feed_dict_tensor):\n\u001b[1;32m-> 1191\u001b[0m   results \u001b[39m=\u001b[39m \u001b[39mself\u001b[39;49m\u001b[39m.\u001b[39;49m_do_run(handle, final_targets, final_fetches,\n\u001b[0;32m   1192\u001b[0m                          feed_dict_tensor, options, run_metadata)\n\u001b[0;32m   1193\u001b[0m \u001b[39melse\u001b[39;00m:\n\u001b[0;32m   1194\u001b[0m   results \u001b[39m=\u001b[39m []\n",
      "File \u001b[1;32md:\\Program\\Anaconda3\\envs\\Predict\\lib\\site-packages\\tensorflow\\python\\client\\session.py:1371\u001b[0m, in \u001b[0;36mBaseSession._do_run\u001b[1;34m(self, handle, target_list, fetch_list, feed_dict, options, run_metadata)\u001b[0m\n\u001b[0;32m   1368\u001b[0m   \u001b[39mreturn\u001b[39;00m \u001b[39mself\u001b[39m\u001b[39m.\u001b[39m_call_tf_sessionprun(handle, feed_dict, fetch_list)\n\u001b[0;32m   1370\u001b[0m \u001b[39mif\u001b[39;00m handle \u001b[39mis\u001b[39;00m \u001b[39mNone\u001b[39;00m:\n\u001b[1;32m-> 1371\u001b[0m   \u001b[39mreturn\u001b[39;00m \u001b[39mself\u001b[39;49m\u001b[39m.\u001b[39;49m_do_call(_run_fn, feeds, fetches, targets, options,\n\u001b[0;32m   1372\u001b[0m                        run_metadata)\n\u001b[0;32m   1373\u001b[0m \u001b[39melse\u001b[39;00m:\n\u001b[0;32m   1374\u001b[0m   \u001b[39mreturn\u001b[39;00m \u001b[39mself\u001b[39m\u001b[39m.\u001b[39m_do_call(_prun_fn, handle, feeds, fetches)\n",
      "File \u001b[1;32md:\\Program\\Anaconda3\\envs\\Predict\\lib\\site-packages\\tensorflow\\python\\client\\session.py:1378\u001b[0m, in \u001b[0;36mBaseSession._do_call\u001b[1;34m(self, fn, *args)\u001b[0m\n\u001b[0;32m   1376\u001b[0m \u001b[39mdef\u001b[39;00m \u001b[39m_do_call\u001b[39m(\u001b[39mself\u001b[39m, fn, \u001b[39m*\u001b[39margs):\n\u001b[0;32m   1377\u001b[0m   \u001b[39mtry\u001b[39;00m:\n\u001b[1;32m-> 1378\u001b[0m     \u001b[39mreturn\u001b[39;00m fn(\u001b[39m*\u001b[39;49margs)\n\u001b[0;32m   1379\u001b[0m   \u001b[39mexcept\u001b[39;00m errors\u001b[39m.\u001b[39mOpError \u001b[39mas\u001b[39;00m e:\n\u001b[0;32m   1380\u001b[0m     message \u001b[39m=\u001b[39m compat\u001b[39m.\u001b[39mas_text(e\u001b[39m.\u001b[39mmessage)\n",
      "File \u001b[1;32md:\\Program\\Anaconda3\\envs\\Predict\\lib\\site-packages\\tensorflow\\python\\client\\session.py:1361\u001b[0m, in \u001b[0;36mBaseSession._do_run.<locals>._run_fn\u001b[1;34m(feed_dict, fetch_list, target_list, options, run_metadata)\u001b[0m\n\u001b[0;32m   1358\u001b[0m \u001b[39mdef\u001b[39;00m \u001b[39m_run_fn\u001b[39m(feed_dict, fetch_list, target_list, options, run_metadata):\n\u001b[0;32m   1359\u001b[0m   \u001b[39m# Ensure any changes to the graph are reflected in the runtime.\u001b[39;00m\n\u001b[0;32m   1360\u001b[0m   \u001b[39mself\u001b[39m\u001b[39m.\u001b[39m_extend_graph()\n\u001b[1;32m-> 1361\u001b[0m   \u001b[39mreturn\u001b[39;00m \u001b[39mself\u001b[39;49m\u001b[39m.\u001b[39;49m_call_tf_sessionrun(options, feed_dict, fetch_list,\n\u001b[0;32m   1362\u001b[0m                                   target_list, run_metadata)\n",
      "File \u001b[1;32md:\\Program\\Anaconda3\\envs\\Predict\\lib\\site-packages\\tensorflow\\python\\client\\session.py:1454\u001b[0m, in \u001b[0;36mBaseSession._call_tf_sessionrun\u001b[1;34m(self, options, feed_dict, fetch_list, target_list, run_metadata)\u001b[0m\n\u001b[0;32m   1452\u001b[0m \u001b[39mdef\u001b[39;00m \u001b[39m_call_tf_sessionrun\u001b[39m(\u001b[39mself\u001b[39m, options, feed_dict, fetch_list, target_list,\n\u001b[0;32m   1453\u001b[0m                         run_metadata):\n\u001b[1;32m-> 1454\u001b[0m   \u001b[39mreturn\u001b[39;00m tf_session\u001b[39m.\u001b[39;49mTF_SessionRun_wrapper(\u001b[39mself\u001b[39;49m\u001b[39m.\u001b[39;49m_session, options, feed_dict,\n\u001b[0;32m   1455\u001b[0m                                           fetch_list, target_list,\n\u001b[0;32m   1456\u001b[0m                                           run_metadata)\n",
      "\u001b[1;31mKeyboardInterrupt\u001b[0m: "
     ]
    },
    {
     "data": {
      "image/png": "[encoded data removed]",
      "text/plain": [
       "<Figure size 1500x500 with 1 Axes>"
      ]
     },
     "metadata": {},
     "output_type": "display_data"
    }
   ],
   "source": [
    "# 总流程\n",
    "outcomes=[]\n",
    "for index,row in out.iterrows():\n",
    "    rcode=row['sales_region_code']\n",
    "    icode=row['item_code']\n",
    "\n",
    "    # 说明已经处理好了\n",
    "    if row['month1'] >0:\n",
    "        print('%s pass',icode)\n",
    "        continue\n",
    "    \n",
    "    print(icode)\n",
    "    # 数据提取\n",
    "    data=ori_data[(ori_data['item_code']==icode)&(ori_data['sales_region_code']==rcode)]\n",
    "\n",
    "    if data.empty:\n",
    "        outcome=[rcode,icode,0,0,0]\n",
    "        outcomes.append(outcome)\n",
    "        continue\n",
    "    \n",
    "    print('%s redo',icode)\n",
    "    # 数据预处理\n",
    "    # 将同一天的数据进行合并\n",
    "    # 缺失数据进行补充\n",
    "    exday=pd.to_datetime(data.iloc[0,0])+pd.Timedelta(days=-1)\n",
    "\n",
    "    exqty=0\n",
    "    exprice=0\n",
    "    alist=[]\n",
    "    for index,row in data.iterrows():\n",
    "        day=(pd.to_datetime(row['order_date'])-exday).days\n",
    "        if day>1:\n",
    "            # 缺失日补充\n",
    "            qty=(row['ord_qty']-exqty)/day\n",
    "            price=(row['item_price']-exprice)/day\n",
    "            for i in range(day-1):\n",
    "                date=exday+pd.Timedelta(days=(i+1))\n",
    "                value=[date,0,0,0,0,0,exprice+price*(i+1),exqty+qty*(i+1),0,0]\n",
    "                alist.append(value)\n",
    "        else:\n",
    "            if day==0:\n",
    "                # 同一天数据进行合并\n",
    "                row['item_price']=(row['item_price']+exprice)/2\n",
    "                row['ord_qty']=(row['ord_qty']+exqty)/2\n",
    "    exday=pd.to_datetime(row['order_date'])\n",
    "    exqty=row['ord_qty']\n",
    "    exprice=row['item_price']\n",
    "\n",
    "    # 删除同一日数据\n",
    "    data=data.drop_duplicates(subset=['order_date'],keep='last')\n",
    "    # 日期排序\n",
    "    data1=pd.DataFrame(alist,columns=data.columns)\n",
    "    data=pd.concat([data,data1],axis=0)\n",
    "    data['order_date']=pd.to_datetime(data['order_date'])\n",
    "    data=data.sort_values(by='order_date',ascending=True)\n",
    "    data.reset_index(drop=True, inplace=True) # 重新排序\n",
    "\n",
    "    # 按照周进行运算(7天1合并)\n",
    "    # 产生新的data：week ord_qty\n",
    "    data.index=data['order_date']\n",
    "    data=data['ord_qty']\n",
    "    data_month=data.resample('w').sum()\n",
    "    data_month=data_month.rename_axis('order_data').reset_index()\n",
    "    data=data_month\n",
    "\n",
    "    # Y特征处理&提取\n",
    "    minmax = MinMaxScaler().fit(data.iloc[:, 1:2]) # ord_qty\n",
    "    df_log = minmax.transform(data.iloc[:, 1:2]) # ord_qty\n",
    "    df_log = pd.DataFrame(df_log)\n",
    "    df_log.head()\n",
    "    df_train=df_log\n",
    "\n",
    "    # 变量设置--week\n",
    "    test_size=((pd.to_datetime(\"2019/03/31\")-pd.to_datetime(data.iloc[-1,0])).days)//7+1\n",
    "    future_day = test_size\n",
    "\n",
    "    # 模拟运算\n",
    "    results = []\n",
    "    for i in range(simulation_size):\n",
    "        print('simulation %d'%(i + 1))\n",
    "    results.append(forecast())\n",
    "\n",
    "    # 画图&结果存储\n",
    "\n",
    "    outcome=final_process(rcode,icode,test_size,results) \n",
    "    outcomes.append(outcome)\n",
    "\n",
    "\n",
    "outcomes=pd.DataFrame(outcomes,columns=['sales_region_code','item_code','2019.01预测需求量','2019.02预测需求量','2019.01预测需求量']) \n",
    "name='C:/Users/Huilin Yao/Desktop/泰迪杯2023/'+'周时间粒度的预测结果haha'+'.csv'\n",
    "outcomes.to_csv(name,index=False)\n"
   ]
  },
  {
   "cell_type": "markdown",
   "metadata": {},
   "source": []
  }
 ],
 "metadata": {
  "kernelspec": {
   "display_name": "Python 3 (ipykernel)",
   "language": "python",
   "name": "python3"
  },
  "language_info": {
   "codemirror_mode": {
    "name": "ipython",
    "version": 3
   },
   "file_extension": ".py",
   "mimetype": "text/x-python",
   "name": "python",
   "nbconvert_exporter": "python",
   "pygments_lexer": "ipython3",
   "version": "3.10.8"
  },
  "vscode": {
   "interpreter": {
    "hash": "8022b72d1c0a1cc61766362788701a751ef86babb02b2fb82a9a59b3f8ffcfe7"
   }
  }
 },
 "nbformat": 4,
 "nbformat_minor": 2
}
