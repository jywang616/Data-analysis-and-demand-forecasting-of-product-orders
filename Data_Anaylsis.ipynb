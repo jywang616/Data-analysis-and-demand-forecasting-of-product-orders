{
 "cells": [
  {
   "cell_type": "code",
   "execution_count": 11,
   "id": "ceff5e48",
   "metadata": {},
   "outputs": [
    {
     "data": {
      "text/html": [
       "<div>\n",
       "<style scoped>\n",
       "    .dataframe tbody tr th:only-of-type {\n",
       "        vertical-align: middle;\n",
       "    }\n",
       "\n",
       "    .dataframe tbody tr th {\n",
       "        vertical-align: top;\n",
       "    }\n",
       "\n",
       "    .dataframe thead th {\n",
       "        text-align: right;\n",
       "    }\n",
       "</style>\n",
       "<table border=\"1\" class=\"dataframe\">\n",
       "  <thead>\n",
       "    <tr style=\"text-align: right;\">\n",
       "      <th></th>\n",
       "      <th>order_date</th>\n",
       "      <th>sales_region_code</th>\n",
       "      <th>item_code</th>\n",
       "      <th>first_cate_code</th>\n",
       "      <th>second_cate_code</th>\n",
       "      <th>sales_chan_name</th>\n",
       "      <th>item_price</th>\n",
       "      <th>ord_qty</th>\n",
       "    </tr>\n",
       "  </thead>\n",
       "  <tbody>\n",
       "    <tr>\n",
       "      <th>0</th>\n",
       "      <td>2015-09-01</td>\n",
       "      <td>104</td>\n",
       "      <td>22069</td>\n",
       "      <td>307</td>\n",
       "      <td>403</td>\n",
       "      <td>offline</td>\n",
       "      <td>1114.0</td>\n",
       "      <td>19</td>\n",
       "    </tr>\n",
       "    <tr>\n",
       "      <th>1</th>\n",
       "      <td>2015-09-01</td>\n",
       "      <td>104</td>\n",
       "      <td>20028</td>\n",
       "      <td>301</td>\n",
       "      <td>405</td>\n",
       "      <td>offline</td>\n",
       "      <td>1012.0</td>\n",
       "      <td>12</td>\n",
       "    </tr>\n",
       "    <tr>\n",
       "      <th>2</th>\n",
       "      <td>2015-09-02</td>\n",
       "      <td>104</td>\n",
       "      <td>21183</td>\n",
       "      <td>307</td>\n",
       "      <td>403</td>\n",
       "      <td>online</td>\n",
       "      <td>428.0</td>\n",
       "      <td>109</td>\n",
       "    </tr>\n",
       "    <tr>\n",
       "      <th>3</th>\n",
       "      <td>2015-09-02</td>\n",
       "      <td>104</td>\n",
       "      <td>20448</td>\n",
       "      <td>308</td>\n",
       "      <td>404</td>\n",
       "      <td>online</td>\n",
       "      <td>962.0</td>\n",
       "      <td>3</td>\n",
       "    </tr>\n",
       "    <tr>\n",
       "      <th>4</th>\n",
       "      <td>2015-09-02</td>\n",
       "      <td>104</td>\n",
       "      <td>21565</td>\n",
       "      <td>307</td>\n",
       "      <td>403</td>\n",
       "      <td>offline</td>\n",
       "      <td>1400.0</td>\n",
       "      <td>3</td>\n",
       "    </tr>\n",
       "  </tbody>\n",
       "</table>\n",
       "</div>"
      ],
      "text/plain": [
       "   order_date  sales_region_code  item_code  first_cate_code  \\\n",
       "0  2015-09-01                104      22069              307   \n",
       "1  2015-09-01                104      20028              301   \n",
       "2  2015-09-02                104      21183              307   \n",
       "3  2015-09-02                104      20448              308   \n",
       "4  2015-09-02                104      21565              307   \n",
       "\n",
       "   second_cate_code sales_chan_name  item_price  ord_qty  \n",
       "0               403         offline      1114.0       19  \n",
       "1               405         offline      1012.0       12  \n",
       "2               403          online       428.0      109  \n",
       "3               404          online       962.0        3  \n",
       "4               403         offline      1400.0        3  "
      ]
     },
     "execution_count": 11,
     "metadata": {},
     "output_type": "execute_result"
    }
   ],
   "source": [
    "import pandas as pd\n",
    "import matplotlib.pyplot as plt\n",
    "import numpy as np\n",
    "import seaborn as sns\n",
    "\n",
    "plt.rcParams['font.sans-serif']='SimHei'\n",
    "plt.rcParams['axes.unicode_minus']=False\n",
    "\n",
    "dataset=pd.read_csv('order_train1.csv')\n",
    "dataset.head()"
   ]
  },
  {
   "cell_type": "code",
   "execution_count": 15,
   "id": "3922959f",
   "metadata": {},
   "outputs": [
    {
     "data": {
      "text/html": [
       "<div>\n",
       "<style scoped>\n",
       "    .dataframe tbody tr th:only-of-type {\n",
       "        vertical-align: middle;\n",
       "    }\n",
       "\n",
       "    .dataframe tbody tr th {\n",
       "        vertical-align: top;\n",
       "    }\n",
       "\n",
       "    .dataframe thead th {\n",
       "        text-align: right;\n",
       "    }\n",
       "</style>\n",
       "<table border=\"1\" class=\"dataframe\">\n",
       "  <thead>\n",
       "    <tr style=\"text-align: right;\">\n",
       "      <th></th>\n",
       "      <th>sales_region_code</th>\n",
       "      <th>item_code</th>\n",
       "      <th>first_cate_code</th>\n",
       "      <th>second_cate_code</th>\n",
       "      <th>item_price</th>\n",
       "      <th>ord_qty</th>\n",
       "    </tr>\n",
       "  </thead>\n",
       "  <tbody>\n",
       "    <tr>\n",
       "      <th>count</th>\n",
       "      <td>597694.000000</td>\n",
       "      <td>597694.000000</td>\n",
       "      <td>597694.000000</td>\n",
       "      <td>597694.000000</td>\n",
       "      <td>597694.000000</td>\n",
       "      <td>597694.000000</td>\n",
       "    </tr>\n",
       "    <tr>\n",
       "      <th>mean</th>\n",
       "      <td>102.903949</td>\n",
       "      <td>21008.015983</td>\n",
       "      <td>304.932094</td>\n",
       "      <td>406.457174</td>\n",
       "      <td>1076.241578</td>\n",
       "      <td>91.650505</td>\n",
       "    </tr>\n",
       "    <tr>\n",
       "      <th>std</th>\n",
       "      <td>1.504880</td>\n",
       "      <td>590.896347</td>\n",
       "      <td>2.004195</td>\n",
       "      <td>3.107329</td>\n",
       "      <td>1167.511104</td>\n",
       "      <td>199.843336</td>\n",
       "    </tr>\n",
       "    <tr>\n",
       "      <th>min</th>\n",
       "      <td>101.000000</td>\n",
       "      <td>20001.000000</td>\n",
       "      <td>301.000000</td>\n",
       "      <td>401.000000</td>\n",
       "      <td>1.000000</td>\n",
       "      <td>1.000000</td>\n",
       "    </tr>\n",
       "    <tr>\n",
       "      <th>25%</th>\n",
       "      <td>102.000000</td>\n",
       "      <td>20518.000000</td>\n",
       "      <td>303.000000</td>\n",
       "      <td>404.000000</td>\n",
       "      <td>598.000000</td>\n",
       "      <td>10.000000</td>\n",
       "    </tr>\n",
       "    <tr>\n",
       "      <th>50%</th>\n",
       "      <td>103.000000</td>\n",
       "      <td>20976.000000</td>\n",
       "      <td>306.000000</td>\n",
       "      <td>407.000000</td>\n",
       "      <td>883.000000</td>\n",
       "      <td>29.000000</td>\n",
       "    </tr>\n",
       "    <tr>\n",
       "      <th>75%</th>\n",
       "      <td>105.000000</td>\n",
       "      <td>21521.000000</td>\n",
       "      <td>306.000000</td>\n",
       "      <td>408.000000</td>\n",
       "      <td>1291.000000</td>\n",
       "      <td>101.000000</td>\n",
       "    </tr>\n",
       "    <tr>\n",
       "      <th>max</th>\n",
       "      <td>105.000000</td>\n",
       "      <td>22084.000000</td>\n",
       "      <td>308.000000</td>\n",
       "      <td>412.000000</td>\n",
       "      <td>260014.000000</td>\n",
       "      <td>16308.000000</td>\n",
       "    </tr>\n",
       "  </tbody>\n",
       "</table>\n",
       "</div>"
      ],
      "text/plain": [
       "       sales_region_code      item_code  first_cate_code  second_cate_code  \\\n",
       "count      597694.000000  597694.000000    597694.000000     597694.000000   \n",
       "mean          102.903949   21008.015983       304.932094        406.457174   \n",
       "std             1.504880     590.896347         2.004195          3.107329   \n",
       "min           101.000000   20001.000000       301.000000        401.000000   \n",
       "25%           102.000000   20518.000000       303.000000        404.000000   \n",
       "50%           103.000000   20976.000000       306.000000        407.000000   \n",
       "75%           105.000000   21521.000000       306.000000        408.000000   \n",
       "max           105.000000   22084.000000       308.000000        412.000000   \n",
       "\n",
       "          item_price        ord_qty  \n",
       "count  597694.000000  597694.000000  \n",
       "mean     1076.241578      91.650505  \n",
       "std      1167.511104     199.843336  \n",
       "min         1.000000       1.000000  \n",
       "25%       598.000000      10.000000  \n",
       "50%       883.000000      29.000000  \n",
       "75%      1291.000000     101.000000  \n",
       "max    260014.000000   16308.000000  "
      ]
     },
     "execution_count": 15,
     "metadata": {},
     "output_type": "execute_result"
    }
   ],
   "source": [
    "dataset.describe()"
   ]
  },
  {
   "cell_type": "code",
   "execution_count": 4,
   "id": "b2c71073",
   "metadata": {},
   "outputs": [
    {
     "name": "stdout",
     "output_type": "stream",
     "text": [
      "<class 'pandas.core.frame.DataFrame'>\n",
      "RangeIndex: 597694 entries, 0 to 597693\n",
      "Data columns (total 8 columns):\n",
      " #   Column             Non-Null Count   Dtype  \n",
      "---  ------             --------------   -----  \n",
      " 0   order_date         597694 non-null  object \n",
      " 1   sales_region_code  597694 non-null  int64  \n",
      " 2   item_code          597694 non-null  int64  \n",
      " 3   first_cate_code    597694 non-null  int64  \n",
      " 4   second_cate_code   597694 non-null  int64  \n",
      " 5   sales_chan_name    597694 non-null  object \n",
      " 6   item_price         597694 non-null  float64\n",
      " 7   ord_qty            597694 non-null  int64  \n",
      "dtypes: float64(1), int64(5), object(2)\n",
      "memory usage: 36.5+ MB\n"
     ]
    }
   ],
   "source": [
    "dataset.info()"
   ]
  },
  {
   "cell_type": "code",
   "execution_count": 7,
   "id": "499f95b4",
   "metadata": {},
   "outputs": [
    {
     "data": {
      "text/plain": [
       "order_date           0\n",
       "sales_region_code    0\n",
       "item_code            0\n",
       "first_cate_code      0\n",
       "second_cate_code     0\n",
       "sales_chan_name      0\n",
       "item_price           0\n",
       "ord_qty              0\n",
       "dtype: int64"
      ]
     },
     "execution_count": 7,
     "metadata": {},
     "output_type": "execute_result"
    }
   ],
   "source": [
    "#统计表格中是否有空值\n",
    "dataset.isnull().sum()"
   ]
  },
  {
   "cell_type": "code",
   "execution_count": 10,
   "id": "176cafbb",
   "metadata": {},
   "outputs": [
    {
     "data": {
      "text/plain": [
       "array([[ 1.        , -0.12078224],\n",
       "       [-0.12078224,  1.        ]])"
      ]
     },
     "execution_count": 10,
     "metadata": {},
     "output_type": "execute_result"
    }
   ],
   "source": [
    "#产品的不同价格对需求量的影响(弱相关)\n",
    "price=dataset['item_price']\n",
    "order=dataset['ord_qty']\n",
    "np.corrcoef(price,order)"
   ]
  },
  {
   "cell_type": "code",
   "execution_count": 21,
   "id": "65014a2b",
   "metadata": {},
   "outputs": [
    {
     "data": {
      "text/plain": [
       "<AxesSubplot:xlabel='item_price', ylabel='ord_qty'>"
      ]
     },
     "execution_count": 21,
     "metadata": {},
     "output_type": "execute_result"
    },
    {
     "data": {
      "image/png": "[encoded data removed]",
      "text/plain": [
       "<Figure size 640x480 with 1 Axes>"
      ]
     },
     "metadata": {},
     "output_type": "display_data"
    }
   ],
   "source": [
    "sns.scatterplot(x=\"item_price\",y=\"ord_qty\",data=dataset)"
   ]
  },
  {
   "cell_type": "code",
   "execution_count": 12,
   "id": "ce00d51f",
   "metadata": {},
   "outputs": [
    {
     "data": {
      "text/plain": [
       "<AxesSubplot:>"
      ]
     },
     "execution_count": 12,
     "metadata": {},
     "output_type": "execute_result"
    },
    {
     "data": {
      "image/png": "[encoded data removed]",
      "text/plain": [
       "<Figure size 640x480 with 2 Axes>"
      ]
     },
     "metadata": {},
     "output_type": "display_data"
    }
   ],
   "source": [
    "sns.heatmap(np.corrcoef(price,order))"
   ]
  },
  {
   "cell_type": "code",
   "execution_count": 13,
   "id": "6e4f33f6",
   "metadata": {},
   "outputs": [
    {
     "data": {
      "text/plain": [
       "<AxesSubplot:xlabel='sales_region_code', ylabel='ord_qty'>"
      ]
     },
     "execution_count": 13,
     "metadata": {},
     "output_type": "execute_result"
    },
    {
     "data": {
      "image/png": "[encoded data removed]",
      "text/plain": [
       "<Figure size 640x480 with 1 Axes>"
      ]
     },
     "metadata": {},
     "output_type": "display_data"
    }
   ],
   "source": [
    "#产品所在区域对需求量的影响，以及不同区域的产品需求量有何特性\n",
    "sns.violinplot(x=\"sales_region_code\", y=\"ord_qty\",\n",
    "                    data=dataset, palette=\"Set2\")"
   ]
  },
  {
   "cell_type": "code",
   "execution_count": 25,
   "id": "f781d9dd",
   "metadata": {},
   "outputs": [
    {
     "data": {
      "text/plain": [
       "<AxesSubplot:xlabel='sales_chan_name', ylabel='ord_qty'>"
      ]
     },
     "execution_count": 25,
     "metadata": {},
     "output_type": "execute_result"
    },
    {
     "data": {
      "image/png": "[encoded data removed]",
      "text/plain": [
       "<Figure size 640x480 with 1 Axes>"
      ]
     },
     "metadata": {},
     "output_type": "display_data"
    }
   ],
   "source": [
    "#不同销售方式（线上和线下）的产品需求量的特性\n",
    "sns.violinplot(x=\"sales_chan_name\", y=\"ord_qty\",\n",
    "                    data=dataset, palette=\"Set2\")"
   ]
  },
  {
   "cell_type": "code",
   "execution_count": 17,
   "id": "ec6c17ae",
   "metadata": {},
   "outputs": [
    {
     "data": {
      "text/plain": [
       "<AxesSubplot:xlabel='first_cate_code', ylabel='ord_qty'>"
      ]
     },
     "execution_count": 17,
     "metadata": {},
     "output_type": "execute_result"
    },
    {
     "data": {
      "image/png": "[encoded data removed]",
      "text/plain": [
       "<Figure size 640x480 with 1 Axes>"
      ]
     },
     "metadata": {},
     "output_type": "display_data"
    }
   ],
   "source": [
    "#不同品类之间的产品需求量有何不同点和共同点\n",
    "sns.violinplot(x=\"first_cate_code\", y=\"ord_qty\",\n",
    "                    data=dataset, palette=\"Set2\")"
   ]
  },
  {
   "cell_type": "code",
   "execution_count": null,
   "id": "7561e443",
   "metadata": {},
   "outputs": [],
   "source": []
  }
 ],
 "metadata": {
  "kernelspec": {
   "display_name": "Python 3 (ipykernel)",
   "language": "python",
   "name": "python3"
  },
  "language_info": {
   "codemirror_mode": {
    "name": "ipython",
    "version": 3
   },
   "file_extension": ".py",
   "mimetype": "text/x-python",
   "name": "python",
   "nbconvert_exporter": "python",
   "pygments_lexer": "ipython3",
   "version": "3.9.13"
  }
 },
 "nbformat": 4,
 "nbformat_minor": 5
}
